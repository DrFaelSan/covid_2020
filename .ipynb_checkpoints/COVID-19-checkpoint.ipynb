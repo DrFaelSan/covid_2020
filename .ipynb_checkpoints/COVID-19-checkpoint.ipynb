{
 "cells": [
  {
   "cell_type": "markdown",
   "id": "48b1bfca",
   "metadata": {},
   "source": [
    "# Analise COVID-19"
   ]
  },
  {
   "cell_type": "markdown",
   "id": "479d406a",
   "metadata": {},
   "source": []
  },
  {
   "cell_type": "code",
   "execution_count": null,
   "id": "05db73c3",
   "metadata": {},
   "outputs": [],
   "source": [
    "import pandas as pd\n",
    "import matplotlib\n",
    "\n",
    "#Importação dataset\n",
    "Data = pd.read_csv(\"database/WHO-COVID-19-global-data.csv\", sep=';',encoding='ISO-8859-1')\n",
    "Data.head()"
   ]
  },
  {
   "cell_type": "code",
   "execution_count": null,
   "id": "a5470a51",
   "metadata": {},
   "outputs": [],
   "source": [
    "Data.columns.values"
   ]
  },
  {
   "cell_type": "code",
   "execution_count": null,
   "id": "86913970",
   "metadata": {},
   "outputs": [],
   "source": []
  },
  {
   "cell_type": "code",
   "execution_count": null,
   "id": "ac981ee3",
   "metadata": {},
   "outputs": [],
   "source": []
  },
  {
   "cell_type": "code",
   "execution_count": null,
   "id": "e862bf0a",
   "metadata": {},
   "outputs": [],
   "source": []
  }
 ],
 "metadata": {
  "kernelspec": {
   "display_name": "Python 3",
   "language": "python",
   "name": "python3"
  },
  "language_info": {
   "codemirror_mode": {
    "name": "ipython",
    "version": 3
   },
   "file_extension": ".py",
   "mimetype": "text/x-python",
   "name": "python",
   "nbconvert_exporter": "python",
   "pygments_lexer": "ipython3",
   "version": "3.8.8"
  }
 },
 "nbformat": 4,
 "nbformat_minor": 5
}
