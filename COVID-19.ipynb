{
 "cells": [
  {
   "cell_type": "markdown",
   "id": "560e7c7e",
   "metadata": {},
   "source": [
    "# Analise COVID-19"
   ]
  },
  {
   "cell_type": "markdown",
   "id": "db1e3e47",
   "metadata": {},
   "source": [
    "A Analise será baseada em obitos de covid-19 com informações de 3 anos para tirarmos um total."
   ]
  },
  {
   "cell_type": "code",
   "execution_count": 53,
   "id": "6bfa366e",
   "metadata": {},
   "outputs": [
    {
     "data": {
      "text/html": [
       "<div>\n",
       "<style scoped>\n",
       "    .dataframe tbody tr th:only-of-type {\n",
       "        vertical-align: middle;\n",
       "    }\n",
       "\n",
       "    .dataframe tbody tr th {\n",
       "        vertical-align: top;\n",
       "    }\n",
       "\n",
       "    .dataframe thead th {\n",
       "        text-align: right;\n",
       "    }\n",
       "</style>\n",
       "<table border=\"1\" class=\"dataframe\">\n",
       "  <thead>\n",
       "    <tr style=\"text-align: right;\">\n",
       "      <th></th>\n",
       "      <th>ï»¿Data_Reportada</th>\n",
       "      <th>Codigo_Pais</th>\n",
       "      <th>Pais</th>\n",
       "      <th>Regiao</th>\n",
       "      <th>Novos_Casos</th>\n",
       "      <th>Casos_Acumulados</th>\n",
       "      <th>Novas_mortes</th>\n",
       "      <th>Mortes_Acumuladas</th>\n",
       "    </tr>\n",
       "  </thead>\n",
       "  <tbody>\n",
       "    <tr>\n",
       "      <th>0</th>\n",
       "      <td>2020-01-03</td>\n",
       "      <td>AF</td>\n",
       "      <td>Afghanistan</td>\n",
       "      <td>EMRO</td>\n",
       "      <td>0.0</td>\n",
       "      <td>0.0</td>\n",
       "      <td>0.0</td>\n",
       "      <td>0.0</td>\n",
       "    </tr>\n",
       "    <tr>\n",
       "      <th>1</th>\n",
       "      <td>2020-01-04</td>\n",
       "      <td>AF</td>\n",
       "      <td>Afghanistan</td>\n",
       "      <td>EMRO</td>\n",
       "      <td>0.0</td>\n",
       "      <td>0.0</td>\n",
       "      <td>0.0</td>\n",
       "      <td>0.0</td>\n",
       "    </tr>\n",
       "    <tr>\n",
       "      <th>2</th>\n",
       "      <td>2020-01-05</td>\n",
       "      <td>AF</td>\n",
       "      <td>Afghanistan</td>\n",
       "      <td>EMRO</td>\n",
       "      <td>0.0</td>\n",
       "      <td>0.0</td>\n",
       "      <td>0.0</td>\n",
       "      <td>0.0</td>\n",
       "    </tr>\n",
       "    <tr>\n",
       "      <th>3</th>\n",
       "      <td>2020-01-06</td>\n",
       "      <td>AF</td>\n",
       "      <td>Afghanistan</td>\n",
       "      <td>EMRO</td>\n",
       "      <td>0.0</td>\n",
       "      <td>0.0</td>\n",
       "      <td>0.0</td>\n",
       "      <td>0.0</td>\n",
       "    </tr>\n",
       "    <tr>\n",
       "      <th>4</th>\n",
       "      <td>2020-01-07</td>\n",
       "      <td>AF</td>\n",
       "      <td>Afghanistan</td>\n",
       "      <td>EMRO</td>\n",
       "      <td>0.0</td>\n",
       "      <td>0.0</td>\n",
       "      <td>0.0</td>\n",
       "      <td>0.0</td>\n",
       "    </tr>\n",
       "  </tbody>\n",
       "</table>\n",
       "</div>"
      ],
      "text/plain": [
       "  ï»¿Data_Reportada Codigo_Pais         Pais Regiao  Novos_Casos  \\\n",
       "0        2020-01-03          AF  Afghanistan   EMRO          0.0   \n",
       "1        2020-01-04          AF  Afghanistan   EMRO          0.0   \n",
       "2        2020-01-05          AF  Afghanistan   EMRO          0.0   \n",
       "3        2020-01-06          AF  Afghanistan   EMRO          0.0   \n",
       "4        2020-01-07          AF  Afghanistan   EMRO          0.0   \n",
       "\n",
       "   Casos_Acumulados  Novas_mortes  Mortes_Acumuladas  \n",
       "0               0.0           0.0                0.0  \n",
       "1               0.0           0.0                0.0  \n",
       "2               0.0           0.0                0.0  \n",
       "3               0.0           0.0                0.0  \n",
       "4               0.0           0.0                0.0  "
      ]
     },
     "execution_count": 53,
     "metadata": {},
     "output_type": "execute_result"
    }
   ],
   "source": [
    "import pandas as pd\n",
    "import matplotlib\n",
    "\n",
    "#Importação dataset\n",
    "Data = pd.read_csv(\"database/WHO-COVID-19-global-data.csv\",sep=',',encoding='ISO-8859-1')\n",
    "\n",
    "Data.head()"
   ]
  },
  {
   "cell_type": "code",
   "execution_count": 54,
   "id": "674ea575",
   "metadata": {},
   "outputs": [
    {
     "data": {
      "text/plain": [
       "array(['ï»¿Data_Reportada', 'Codigo_Pais', 'Pais', 'Regiao',\n",
       "       'Novos_Casos', 'Casos_Acumulados', 'Novas_mortes',\n",
       "       'Mortes_Acumuladas'], dtype=object)"
      ]
     },
     "execution_count": 54,
     "metadata": {},
     "output_type": "execute_result"
    }
   ],
   "source": [
    "Data.columns.values"
   ]
  },
  {
   "cell_type": "markdown",
   "id": "9eea5308",
   "metadata": {},
   "source": [
    "* Abaixo podemos filtrar as colunas selecionadas porém nesse caso vamos utilizar todas."
   ]
  },
  {
   "cell_type": "code",
   "execution_count": 56,
   "id": "3ac9c243",
   "metadata": {},
   "outputs": [
    {
     "data": {
      "text/html": [
       "<div>\n",
       "<style scoped>\n",
       "    .dataframe tbody tr th:only-of-type {\n",
       "        vertical-align: middle;\n",
       "    }\n",
       "\n",
       "    .dataframe tbody tr th {\n",
       "        vertical-align: top;\n",
       "    }\n",
       "\n",
       "    .dataframe thead th {\n",
       "        text-align: right;\n",
       "    }\n",
       "</style>\n",
       "<table border=\"1\" class=\"dataframe\">\n",
       "  <thead>\n",
       "    <tr style=\"text-align: right;\">\n",
       "      <th></th>\n",
       "      <th>Codigo_Pais</th>\n",
       "      <th>Pais</th>\n",
       "      <th>Regiao</th>\n",
       "      <th>Novos_Casos</th>\n",
       "      <th>Casos_Acumulados</th>\n",
       "      <th>Novas_mortes</th>\n",
       "      <th>Mortes_Acumuladas</th>\n",
       "    </tr>\n",
       "  </thead>\n",
       "  <tbody>\n",
       "    <tr>\n",
       "      <th>0</th>\n",
       "      <td>AF</td>\n",
       "      <td>Afghanistan</td>\n",
       "      <td>EMRO</td>\n",
       "      <td>0.0</td>\n",
       "      <td>0.0</td>\n",
       "      <td>0.0</td>\n",
       "      <td>0.0</td>\n",
       "    </tr>\n",
       "    <tr>\n",
       "      <th>1</th>\n",
       "      <td>AF</td>\n",
       "      <td>Afghanistan</td>\n",
       "      <td>EMRO</td>\n",
       "      <td>0.0</td>\n",
       "      <td>0.0</td>\n",
       "      <td>0.0</td>\n",
       "      <td>0.0</td>\n",
       "    </tr>\n",
       "    <tr>\n",
       "      <th>2</th>\n",
       "      <td>AF</td>\n",
       "      <td>Afghanistan</td>\n",
       "      <td>EMRO</td>\n",
       "      <td>0.0</td>\n",
       "      <td>0.0</td>\n",
       "      <td>0.0</td>\n",
       "      <td>0.0</td>\n",
       "    </tr>\n",
       "    <tr>\n",
       "      <th>3</th>\n",
       "      <td>AF</td>\n",
       "      <td>Afghanistan</td>\n",
       "      <td>EMRO</td>\n",
       "      <td>0.0</td>\n",
       "      <td>0.0</td>\n",
       "      <td>0.0</td>\n",
       "      <td>0.0</td>\n",
       "    </tr>\n",
       "    <tr>\n",
       "      <th>4</th>\n",
       "      <td>AF</td>\n",
       "      <td>Afghanistan</td>\n",
       "      <td>EMRO</td>\n",
       "      <td>0.0</td>\n",
       "      <td>0.0</td>\n",
       "      <td>0.0</td>\n",
       "      <td>0.0</td>\n",
       "    </tr>\n",
       "    <tr>\n",
       "      <th>...</th>\n",
       "      <td>...</td>\n",
       "      <td>...</td>\n",
       "      <td>...</td>\n",
       "      <td>...</td>\n",
       "      <td>...</td>\n",
       "      <td>...</td>\n",
       "      <td>...</td>\n",
       "    </tr>\n",
       "    <tr>\n",
       "      <th>140536</th>\n",
       "      <td>ZW</td>\n",
       "      <td>Zimbabwe</td>\n",
       "      <td>AFRO</td>\n",
       "      <td>800.0</td>\n",
       "      <td>118754.0</td>\n",
       "      <td>56.0</td>\n",
       "      <td>4047.0</td>\n",
       "    </tr>\n",
       "    <tr>\n",
       "      <th>140537</th>\n",
       "      <td>ZW</td>\n",
       "      <td>Zimbabwe</td>\n",
       "      <td>AFRO</td>\n",
       "      <td>754.0</td>\n",
       "      <td>119508.0</td>\n",
       "      <td>26.0</td>\n",
       "      <td>4073.0</td>\n",
       "    </tr>\n",
       "    <tr>\n",
       "      <th>140538</th>\n",
       "      <td>ZW</td>\n",
       "      <td>Zimbabwe</td>\n",
       "      <td>AFRO</td>\n",
       "      <td>0.0</td>\n",
       "      <td>119508.0</td>\n",
       "      <td>0.0</td>\n",
       "      <td>4073.0</td>\n",
       "    </tr>\n",
       "    <tr>\n",
       "      <th>140539</th>\n",
       "      <td>ZW</td>\n",
       "      <td>Zimbabwe</td>\n",
       "      <td>AFRO</td>\n",
       "      <td>580.0</td>\n",
       "      <td>120088.0</td>\n",
       "      <td>36.0</td>\n",
       "      <td>4109.0</td>\n",
       "    </tr>\n",
       "    <tr>\n",
       "      <th>140540</th>\n",
       "      <td>ZW</td>\n",
       "      <td>Zimbabwe</td>\n",
       "      <td>AFRO</td>\n",
       "      <td>444.0</td>\n",
       "      <td>120532.0</td>\n",
       "      <td>29.0</td>\n",
       "      <td>4138.0</td>\n",
       "    </tr>\n",
       "  </tbody>\n",
       "</table>\n",
       "<p>140541 rows × 7 columns</p>\n",
       "</div>"
      ],
      "text/plain": [
       "       Codigo_Pais         Pais Regiao  Novos_Casos  Casos_Acumulados  \\\n",
       "0               AF  Afghanistan   EMRO          0.0               0.0   \n",
       "1               AF  Afghanistan   EMRO          0.0               0.0   \n",
       "2               AF  Afghanistan   EMRO          0.0               0.0   \n",
       "3               AF  Afghanistan   EMRO          0.0               0.0   \n",
       "4               AF  Afghanistan   EMRO          0.0               0.0   \n",
       "...            ...          ...    ...          ...               ...   \n",
       "140536          ZW     Zimbabwe   AFRO        800.0          118754.0   \n",
       "140537          ZW     Zimbabwe   AFRO        754.0          119508.0   \n",
       "140538          ZW     Zimbabwe   AFRO          0.0          119508.0   \n",
       "140539          ZW     Zimbabwe   AFRO        580.0          120088.0   \n",
       "140540          ZW     Zimbabwe   AFRO        444.0          120532.0   \n",
       "\n",
       "        Novas_mortes  Mortes_Acumuladas  \n",
       "0                0.0                0.0  \n",
       "1                0.0                0.0  \n",
       "2                0.0                0.0  \n",
       "3                0.0                0.0  \n",
       "4                0.0                0.0  \n",
       "...              ...                ...  \n",
       "140536          56.0             4047.0  \n",
       "140537          26.0             4073.0  \n",
       "140538           0.0             4073.0  \n",
       "140539          36.0             4109.0  \n",
       "140540          29.0             4138.0  \n",
       "\n",
       "[140541 rows x 7 columns]"
      ]
     },
     "execution_count": 56,
     "metadata": {},
     "output_type": "execute_result"
    }
   ],
   "source": [
    "Colunas = ['Data_Reportada', 'Codigo_Pais', 'Pais', 'Regiao',\n",
    "       'Novos_Casos', 'Casos_Acumulados', 'Novas_mortes',\n",
    "       'Mortes_Acumuladas']\n",
    "DadosFiltrados = Data.filter(items =  Colunas)\n",
    "DadosFiltrados"
   ]
  },
  {
   "cell_type": "markdown",
   "id": "aefc76a9",
   "metadata": {},
   "source": [
    "* Agrupando genero de pessoas"
   ]
  },
  {
   "cell_type": "code",
   "execution_count": 57,
   "id": "940d5615",
   "metadata": {},
   "outputs": [
    {
     "data": {
      "text/plain": [
       "      593\n",
       "AD    593\n",
       "AE    593\n",
       "AF    593\n",
       "AG    593\n",
       "     ... \n",
       "YE    593\n",
       "YT    593\n",
       "ZA    593\n",
       "ZM    593\n",
       "ZW    593\n",
       "Name: Codigo_Pais, Length: 235, dtype: int64"
      ]
     },
     "execution_count": 57,
     "metadata": {},
     "output_type": "execute_result"
    }
   ],
   "source": [
    "coluna_pais = DadosFiltrados['Codigo_Pais']\n",
    "#numero de mortes por genero\n",
    "coluna_pais.value_counts().sort_index()"
   ]
  },
  {
   "cell_type": "markdown",
   "id": "785180e1",
   "metadata": {},
   "source": [
    "* agrupando estado de pessoas"
   ]
  },
  {
   "cell_type": "code",
   "execution_count": 58,
   "id": "1c075535",
   "metadata": {},
   "outputs": [
    {
     "data": {
      "text/plain": [
       "Afghanistan          593\n",
       "Albania              593\n",
       "Algeria              593\n",
       "American Samoa       593\n",
       "Andorra              593\n",
       "                    ... \n",
       "Viet Nam             593\n",
       "Wallis and Futuna    593\n",
       "Yemen                593\n",
       "Zambia               593\n",
       "Zimbabwe             593\n",
       "Name: Pais, Length: 236, dtype: int64"
      ]
     },
     "execution_count": 58,
     "metadata": {},
     "output_type": "execute_result"
    }
   ],
   "source": [
    "pais = DadosFiltrados['Pais']\n",
    "#numero de mortes por genero\n",
    "pais.value_counts().sort_index()"
   ]
  },
  {
   "cell_type": "code",
   "execution_count": null,
   "id": "a4f20e8e",
   "metadata": {},
   "outputs": [],
   "source": []
  },
  {
   "cell_type": "code",
   "execution_count": null,
   "id": "7a6da014",
   "metadata": {},
   "outputs": [],
   "source": []
  },
  {
   "cell_type": "code",
   "execution_count": null,
   "id": "02ce57ae",
   "metadata": {},
   "outputs": [],
   "source": []
  },
  {
   "cell_type": "code",
   "execution_count": null,
   "id": "f9c4be1a",
   "metadata": {},
   "outputs": [],
   "source": []
  },
  {
   "cell_type": "code",
   "execution_count": null,
   "id": "b4a48119",
   "metadata": {},
   "outputs": [],
   "source": []
  }
 ],
 "metadata": {
  "kernelspec": {
   "display_name": "Python 3",
   "language": "python",
   "name": "python3"
  },
  "language_info": {
   "codemirror_mode": {
    "name": "ipython",
    "version": 3
   },
   "file_extension": ".py",
   "mimetype": "text/x-python",
   "name": "python",
   "nbconvert_exporter": "python",
   "pygments_lexer": "ipython3",
   "version": "3.8.8"
  }
 },
 "nbformat": 4,
 "nbformat_minor": 5
}
